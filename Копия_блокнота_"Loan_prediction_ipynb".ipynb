{
  "cells": [
    {
      "cell_type": "markdown",
      "metadata": {
        "id": "view-in-github",
        "colab_type": "text"
      },
      "source": [
        "<a href=\"https://colab.research.google.com/github/javohirjon1992/Portfoliosite/blob/master/%D0%9A%D0%BE%D0%BF%D0%B8%D1%8F_%D0%B1%D0%BB%D0%BE%D0%BA%D0%BD%D0%BE%D1%82%D0%B0_%22Loan_prediction_ipynb%22.ipynb\" target=\"_parent\"><img src=\"https://colab.research.google.com/assets/colab-badge.svg\" alt=\"Open In Colab\"/></a>"
      ]
    },
    {
      "cell_type": "code",
      "execution_count": null,
      "metadata": {
        "id": "TBZHSlcncnJb"
      },
      "outputs": [],
      "source": [
        "import numpy as np\n",
        "import pandas as pd\n",
        "import seaborn as sns\n",
        "from sklearn.model_selection import train_test_split\n",
        "from sklearn import svm\n",
        "from sklearn.metrics import accuracy_score\n"
      ]
    },
    {
      "cell_type": "markdown",
      "metadata": {
        "id": "-kuaBkmKdO2r"
      },
      "source": [
        "Data Collection and Processing"
      ]
    },
    {
      "cell_type": "code",
      "execution_count": null,
      "metadata": {
        "id": "4xW7lkp4c_9G"
      },
      "outputs": [],
      "source": [
        "# loading the dataset to pandas\n",
        "loan_dataset = pd.read_csv('/content/sample_data/loan_dataset0.csv')"
      ]
    },
    {
      "cell_type": "code",
      "execution_count": null,
      "metadata": {
        "id": "2EUsrNyEgnfR"
      },
      "outputs": [],
      "source": [
        "type(loan_dataset)"
      ]
    },
    {
      "cell_type": "code",
      "execution_count": null,
      "metadata": {
        "id": "-CDt_gcigy2W"
      },
      "outputs": [],
      "source": [
        "#printing the first 5 rows of the dataframe\n",
        "loan_dataset.head()"
      ]
    },
    {
      "cell_type": "code",
      "execution_count": null,
      "metadata": {
        "id": "JNvhlL3KhCnI"
      },
      "outputs": [],
      "source": [
        "loan_dataset.shape"
      ]
    },
    {
      "cell_type": "code",
      "execution_count": null,
      "metadata": {
        "id": "BBIAV4X2hlQt"
      },
      "outputs": [],
      "source": [
        "loan_dataset.describe()"
      ]
    },
    {
      "cell_type": "code",
      "execution_count": null,
      "metadata": {
        "id": "5TrWUzich4zI"
      },
      "outputs": [],
      "source": [
        "# number of missing values in each  column\n",
        "loan_dataset.isnull().sum()"
      ]
    },
    {
      "cell_type": "code",
      "execution_count": null,
      "metadata": {
        "id": "ugH5K7M7iYvK"
      },
      "outputs": [],
      "source": [
        "# label encoding\n",
        "loan_dataset.replace({\"Loan_Status\":{'N':0, 'Y':1}}, inplace=True)"
      ]
    },
    {
      "cell_type": "code",
      "execution_count": null,
      "metadata": {
        "id": "X5hX7AYnkaMa"
      },
      "outputs": [],
      "source": [
        "# printing the first 5 rows of dataframe\n",
        "loan_dataset.head()"
      ]
    },
    {
      "cell_type": "code",
      "execution_count": null,
      "metadata": {
        "id": "6xad5t8yksA5"
      },
      "outputs": [],
      "source": [
        "# Dependent column values\n",
        "loan_dataset['Dependents'].value_counts() "
      ]
    },
    {
      "cell_type": "code",
      "execution_count": null,
      "metadata": {
        "id": "AqLUqI-rp4kF"
      },
      "outputs": [],
      "source": [
        "# replacing the value of 3+ to 4\n",
        "loan_dataset = loan_dataset.replace(to_replace='3+', value=4)"
      ]
    },
    {
      "cell_type": "code",
      "execution_count": null,
      "metadata": {
        "id": "HyYR1AR6qCLm"
      },
      "outputs": [],
      "source": [
        "# Dependent column values\n",
        "loan_dataset['Dependents'].value_counts()"
      ]
    },
    {
      "cell_type": "code",
      "execution_count": null,
      "metadata": {
        "id": "3F83kLI4qu2n"
      },
      "outputs": [],
      "source": [
        "# education & Loan Status\n",
        "sns.countplot(x='Education', hue ='Loan_Status', data=loan_dataset)"
      ]
    },
    {
      "cell_type": "code",
      "execution_count": null,
      "metadata": {
        "id": "7D7CR3slr4yW"
      },
      "outputs": [],
      "source": [
        "# marital status & Loan Status\n",
        "sns.countplot(x='Married', hue ='Loan_Status', data=loan_dataset)"
      ]
    },
    {
      "cell_type": "code",
      "execution_count": null,
      "metadata": {
        "id": "QVGFlfYBtVtW"
      },
      "outputs": [],
      "source": [
        "# convert categorical colimns to numerical values\n",
        "\n",
        "loan_dataset.replace({'Married':{'No':0, 'Yes':1}, 'Gender':{'Male':1, 'Female':0}, 'Self_Employed':{'No':0, 'Yes':1},\n",
        "                      'Property_Area':{'Rural':0, 'Semiurban':1, 'Urban':2}, 'Education':{'Graduate':1, 'Not Graduate':0}}, inplace=True)\n"
      ]
    },
    {
      "cell_type": "code",
      "execution_count": null,
      "metadata": {
        "id": "iLl_5-CgwNgs"
      },
      "outputs": [],
      "source": [
        "loan_dataset.head()"
      ]
    },
    {
      "cell_type": "code",
      "execution_count": null,
      "metadata": {
        "id": "LWSvCssawU5q"
      },
      "outputs": [],
      "source": [
        "X = loan_dataset.drop(columns=['Loan_ID', 'Loan_Status'], axis=1)\n",
        "Y = loan_dataset['Loan_Status']\n"
      ]
    },
    {
      "cell_type": "code",
      "execution_count": null,
      "metadata": {
        "id": "Lg9tQCFNxGAR"
      },
      "outputs": [],
      "source": [
        "print(X)\n",
        "print(Y)\n"
      ]
    },
    {
      "cell_type": "markdown",
      "metadata": {
        "id": "simTGXxQyb_h"
      },
      "source": [
        "Train Test Split"
      ]
    },
    {
      "cell_type": "code",
      "execution_count": null,
      "metadata": {
        "id": "T0wujZ7AxIoQ"
      },
      "outputs": [],
      "source": [
        "X_train, X_test, Y_train, Y_test = train_test_split(X,Y,test_size=0.1, stratify=Y, random_state=2) \n"
      ]
    },
    {
      "cell_type": "code",
      "execution_count": null,
      "metadata": {
        "id": "_y_2G3fbzEKX"
      },
      "outputs": [],
      "source": [
        "print(X.shape, X_train.shape, X_test.shape)"
      ]
    },
    {
      "cell_type": "code",
      "execution_count": null,
      "metadata": {
        "id": "qMiRub5-zO5F"
      },
      "outputs": [],
      "source": [
        "classifier = svm.SVC(kernel='linear')\n"
      ]
    },
    {
      "cell_type": "code",
      "execution_count": null,
      "metadata": {
        "id": "0c0v2i74z9Oe"
      },
      "outputs": [],
      "source": [
        "#training the support Vector Machine model\n",
        "classifier.fit(X_train, Y_train)"
      ]
    },
    {
      "cell_type": "markdown",
      "metadata": {
        "id": "nLXbRmEAVHnI"
      },
      "source": [
        "Model evaluation"
      ]
    },
    {
      "cell_type": "code",
      "execution_count": null,
      "metadata": {
        "id": "0OUs1Y5U0JYb"
      },
      "outputs": [],
      "source": [
        "X_training_prediction = classifier.predict(X_train)\n",
        "training_data_accuracy = accuracy_score(X_training_prediction, Y_train)"
      ]
    },
    {
      "cell_type": "code",
      "execution_count": null,
      "metadata": {
        "id": "g41uauyQinw8"
      },
      "outputs": [],
      "source": [
        "print('Accuracy on training data: ', training_data_accuracy )"
      ]
    },
    {
      "cell_type": "code",
      "source": [
        "# accuracy score on training data\n",
        "X_training_prediction = classifier.predict(X_test)\n",
        "test_data_accuracy = accuracy_score(X_test_prediction, Y_test)\n"
      ],
      "metadata": {
        "id": "1-k-A5XRm-zo"
      },
      "execution_count": null,
      "outputs": []
    },
    {
      "cell_type": "code",
      "source": [
        "print('Accuracy on test data: ', test_data_accuracy)"
      ],
      "metadata": {
        "id": "fLYGZkSfoJ8s"
      },
      "execution_count": null,
      "outputs": []
    },
    {
      "cell_type": "code",
      "source": [
        ""
      ],
      "metadata": {
        "id": "-MiTLh6-oQoQ"
      },
      "execution_count": null,
      "outputs": []
    }
  ],
  "metadata": {
    "colab": {
      "name": "Копия блокнота \"Loan prediction.ipynb\"",
      "provenance": [],
      "authorship_tag": "ABX9TyPTcH9GnP8YeB4zGuReuqTz",
      "include_colab_link": true
    },
    "kernelspec": {
      "display_name": "Python 3",
      "name": "python3"
    },
    "language_info": {
      "name": "python"
    }
  },
  "nbformat": 4,
  "nbformat_minor": 0
}